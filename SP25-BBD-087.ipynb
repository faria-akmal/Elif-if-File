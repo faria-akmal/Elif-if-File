{
 "cells": [
  {
   "cell_type": "markdown",
   "id": "54b757ae-cb83-42ee-bd08-60cb8e41bdb7",
   "metadata": {},
   "source": [
    "# Qusetion Number 1:"
   ]
  },
  {
   "cell_type": "code",
   "execution_count": 2,
   "id": "04a99c53-0adf-4d6b-9128-c8a08d621b0b",
   "metadata": {},
   "outputs": [
    {
     "name": "stdout",
     "output_type": "stream",
     "text": [
      "Positive\n"
     ]
    }
   ],
   "source": [
    "# Write a program to check if the number is positive, negative, or zero\n",
    "Number=24\n",
    "if Number==+24:\n",
    "    print(\"Positive\")\n",
    "elif  Number==-24:\n",
    "    print(\"Negative\")\n",
    "else:\n",
    "    print(\"Zero\")"
   ]
  },
  {
   "cell_type": "markdown",
   "id": "cb12ce82-3f77-4dad-ae2c-7b3b72494058",
   "metadata": {},
   "source": [
    "# Qusetion Number 2:"
   ]
  },
  {
   "cell_type": "code",
   "execution_count": 4,
   "id": "e5c3c537-41d6-4ae3-bc02-c784266ecb4e",
   "metadata": {},
   "outputs": [
    {
     "name": "stdout",
     "output_type": "stream",
     "text": [
      "Leap Year\n"
     ]
    }
   ],
   "source": [
    "# Determine whether the given year is leap year or not\n",
    "year= 2024\n",
    "if 2024/4 :\n",
    "    print(\"Leap Year\")\n",
    "else :\n",
    "    print(\"Year\")"
   ]
  },
  {
   "cell_type": "markdown",
   "id": "488e91fa-c921-44a5-87ca-006b4836e9a7",
   "metadata": {},
   "source": [
    "# Qusetion Number 3:"
   ]
  },
  {
   "cell_type": "code",
   "execution_count": 6,
   "id": "c4a0a8e6-26a2-411f-b7f4-83e7797ef1e0",
   "metadata": {},
   "outputs": [
    {
     "name": "stdout",
     "output_type": "stream",
     "text": [
      "A\n"
     ]
    }
   ],
   "source": [
    "# Determine which grade should be given\n",
    "mark=90\n",
    "if mark >=85:\n",
    "    print(\"A\")\n",
    "elif mark >=70:\n",
    "    print(\"B\")\n",
    "elif mark >=50:\n",
    "    print(\"C\")\n",
    "else :\n",
    "    print(\"D\")    "
   ]
  },
  {
   "cell_type": "code",
   "execution_count": null,
   "id": "a48319b3-8864-49f1-8f8f-734fa70cde8d",
   "metadata": {},
   "outputs": [],
   "source": []
  }
 ],
 "metadata": {
  "kernelspec": {
   "display_name": "Python [conda env:anaconda new]",
   "language": "python",
   "name": "conda-env-anaconda_new-py"
  },
  "language_info": {
   "codemirror_mode": {
    "name": "ipython",
    "version": 3
   },
   "file_extension": ".py",
   "mimetype": "text/x-python",
   "name": "python",
   "nbconvert_exporter": "python",
   "pygments_lexer": "ipython3",
   "version": "3.12.7"
  }
 },
 "nbformat": 4,
 "nbformat_minor": 5
}
